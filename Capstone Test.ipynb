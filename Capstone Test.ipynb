{
    "cells": [
        {
            "cell_type": "markdown",
            "metadata": {},
            "source": "# This Notebook will be used for the Final Capstone Project where we will analyze Traffic.\n"
        },
        {
            "cell_type": "code",
            "execution_count": 5,
            "metadata": {},
            "outputs": [
                {
                    "name": "stdout",
                    "output_type": "stream",
                    "text": "Hello Capstone Project Course!\n"
                }
            ],
            "source": "import pandas as pd\nimport numpy as np\n   \nprint(\"Hello Capstone Project Course!\")"
        },
        {
            "cell_type": "markdown",
            "metadata": {},
            "source": "## Introduction/Business Problem"
        },
        {
            "cell_type": "code",
            "execution_count": 3,
            "metadata": {},
            "outputs": [
                {
                    "name": "stdout",
                    "output_type": "stream",
                    "text": "Driving represents the most common transportation method of the modern american socities, due to the large amount of users there are many accidents and problems that the society and governments all around the world needs to fix and solve. With this project I will be able to analyze different conditions (weather, light, location, etc.) that lead to higher traffic, car accidents and type of accidents as well as to show the vulnerable locations and type of accidents that mostly occur; providing these findings the society and government can use this information to create awareness and develop measurements to diminish these accidents. This can be achieved by a machine learning algorythm that can predict the conditions before the events happens but also used to demonstrate what places need special general awareness.\n"
                }
            ],
            "source": "# Driving represents the most common transportation method of the modern american socities, due to the large amount of users there are many accidents and problems that the society and governments all around the world needs to fix and solve. With this project I will be able to analyze different conditions (weather, light, location, etc.) that lead to higher traffic, car accidents and type of accidents as well as to show the vulnerable locations and type of accidents that mostly occur; providing these findings the society and government can use this information to create awareness and develop measurements to diminish these accidents. This can be achieved by a machine learning algorythm that can predict the conditions before the events happens but also used to demonstrate what places need special general awareness-"
        },
        {
            "cell_type": "markdown",
            "metadata": {},
            "source": "## Data Section"
        },
        {
            "cell_type": "code",
            "execution_count": 10,
            "metadata": {},
            "outputs": [],
            "source": "# The data consists on a table provided by Coursera and has 38 columns and about 200,000 incidents(accidents) that demonstrates all the attributes of the accident; there are several conditions that are dependant to each Accident, as well as independent conditions in the Data. For which all the data cleaning process will be done to fit the Data to Machine Learning Methods, such as  Machine Learning Methods: K-nearest neighbor, Decision Tree, and Support vector machine. The locations will be drawn into a map using python Data Visualization and Plateau.-"
        },
        {
            "cell_type": "code",
            "execution_count": null,
            "metadata": {},
            "outputs": [],
            "source": ""
        }
    ],
    "metadata": {
        "kernelspec": {
            "display_name": "Python 3.6",
            "language": "python",
            "name": "python3"
        },
        "language_info": {
            "codemirror_mode": {
                "name": "ipython",
                "version": 3
            },
            "file_extension": ".py",
            "mimetype": "text/x-python",
            "name": "python",
            "nbconvert_exporter": "python",
            "pygments_lexer": "ipython3",
            "version": "3.6.9"
        }
    },
    "nbformat": 4,
    "nbformat_minor": 1
}